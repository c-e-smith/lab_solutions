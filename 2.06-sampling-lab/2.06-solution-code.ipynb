{
 "cells": [
  {
   "cell_type": "code",
   "execution_count": 1,
   "metadata": {
    "collapsed": true
   },
   "outputs": [],
   "source": [
    "import pandas as pd\n",
    "import numpy as np\n",
    "import seaborn as sns\n",
    "\n",
    "%matplotlib inline"
   ]
  },
  {
   "cell_type": "markdown",
   "metadata": {},
   "source": [
    "Exercise 1: Create a function `simple_random_sample()` that will:\n",
    "- take in a Pandas DataFrame and an integer $n$ as arguments, and\n",
    "- return a simple random sample of size $n$ of the observations in a Pandas DataFrame."
   ]
  },
  {
   "cell_type": "code",
   "execution_count": 2,
   "metadata": {
    "collapsed": true
   },
   "outputs": [],
   "source": [
    "def simple_random_sample(df, n):\n",
    "    return df.sample(n)"
   ]
  },
  {
   "cell_type": "markdown",
   "metadata": {},
   "source": [
    "Exercise 2: Create a function `stratified_random_sample()` that will:\n",
    "- take in a Pandas DataFrame, a categorical column name corresponding to the variable on which you want to stratify, and an integer $n$ as arguments, and\n",
    "- return a stratified random sample of size $n$ of the observations in a Pandas DataFrame. \n",
    "\n",
    "*Hint: Use your function from Exercise 1 to help out with that.*"
   ]
  },
  {
   "cell_type": "code",
   "execution_count": 3,
   "metadata": {},
   "outputs": [],
   "source": [
    "from math import floor ## floor is a way for us to round everything down.\n",
    "\n",
    "def stratified_random_sample(df, col, n):\n",
    "    strata = list(set(df[col]))\n",
    "    sample = df[df[col] == strata[0]].sample(int(floor(n * pd.DataFrame(df[col].value_counts()).loc[strata[0]][0] / df.shape[0])))\n",
    "    for i in strata[1:]:\n",
    "        sample = pd.concat([sample,df[df[col] == i].sample(int(floor(n * pd.DataFrame(df[col].value_counts()).loc[i][0] / df.shape[0])))])\n",
    "### lines beneath this are to ensure that the final dataframe has n rows ###\n",
    "    while sample.shape[0] < n:\n",
    "        sample = pd.concat([sample, df.sample(n - sample.shape[0] , weights = df[col])])\n",
    "        sample = sample.drop_duplicates()\n",
    "    return sample"
   ]
  },
  {
   "cell_type": "markdown",
   "metadata": {},
   "source": [
    "**Comments:** \n",
    "- First, there are many different ways of writing this function.\n",
    "- Second, the function above the comment provides us with a true stratified random sample. \n",
    "    - If we're willing to compromise our stratified random sample in order to draw exactly $n$ observations, we can include the `while` loop beneath the comment to fill out the rest of our dataframe with values sampled proportionally to the variable on which we stratify."
   ]
  },
  {
   "cell_type": "markdown",
   "metadata": {},
   "source": [
    "Exercise 3: Create a function `cluster_random_sample()` that will:\n",
    "- take in a Pandas DataFrame, a categorical column name corresponding to the variable of sampling units, and an integer $n$ as arguments, and\n",
    "- return a **edit: cluster** random sample of size $n$ of the observations in a Pandas DataFrame. \n",
    "\n",
    "*Hint: Use your function from Exercise 2 to help out with that.*"
   ]
  },
  {
   "cell_type": "code",
   "execution_count": 4,
   "metadata": {
    "collapsed": true
   },
   "outputs": [],
   "source": [
    "def cluster_random_sample(df, col, n):\n",
    "    strata = list(set(df[col]))\n",
    "    sampling_unit = np.random.choice(strata)\n",
    "    sample = df[df[col] == sampling_unit]\n",
    "    strata.remove(sampling_unit)\n",
    "    while sample.shape[0] < n:\n",
    "        sampling_unit = np.random.choice(strata)\n",
    "        sample = pd.concat([sample,df[df[col] == sampling_unit]])\n",
    "        strata.remove(sampling_unit)\n",
    "### lines beneath this are to ensure that the final dataframe has n rows ###\n",
    "#    while sample.shape[0] > n:\n",
    "#        sample = sample.drop(np.random.choice(sample[sample[col] == sampling_unit].index, sample.shape[0] - n, replace = False))\n",
    "    return sample"
   ]
  },
  {
   "cell_type": "markdown",
   "metadata": {},
   "source": [
    "**Comments:** \n",
    "- First, there are many different ways of writing this function.\n",
    "- Second, the function above the comment provides us with a true cluster random sample. \n",
    "    - If we're willing to compromise our cluster random sample in order to draw exactly $n$ observations, we can include the `while` loop beneath the comment to drop out all observations beyond $n$ from the last cluster we included in our sample."
   ]
  },
  {
   "cell_type": "markdown",
   "metadata": {},
   "source": [
    "Exercise 4: Read in `train.csv`.\n",
    "\n",
    "Gather a simple random sample of size 500 from `train`. Calculate the mean of `Weekly_Sales` and append it to a list. Repeat this 100 times, so that you have one list of 100 sample means where each mean is calculated from a simple random sample of size 500.\n",
    "\n",
    "Use `sns.distplot()` to plot this list of sample means. Label the chart with the mean and the standard deviation of this list."
   ]
  },
  {
   "cell_type": "code",
   "execution_count": 5,
   "metadata": {},
   "outputs": [],
   "source": [
    "train = pd.read_csv('./train.csv')"
   ]
  },
  {
   "cell_type": "code",
   "execution_count": 6,
   "metadata": {},
   "outputs": [],
   "source": [
    "simple_mean = [np.mean(simple_random_sample(train,500)['Weekly_Sales']) for i in range(100)]"
   ]
  },
  {
   "cell_type": "code",
   "execution_count": 7,
   "metadata": {},
   "outputs": [
    {
     "data": {
      "text/plain": [
       "[16244.232300000003,\n",
       " 15085.56762,\n",
       " 16125.659919999982,\n",
       " 15098.50921999999,\n",
       " 16992.069680000004]"
      ]
     },
     "execution_count": 7,
     "metadata": {},
     "output_type": "execute_result"
    }
   ],
   "source": [
    "simple_mean[0:5]"
   ]
  },
  {
   "cell_type": "code",
   "execution_count": 8,
   "metadata": {},
   "outputs": [
    {
     "data": {
      "text/plain": [
       "<matplotlib.text.Text at 0x115c95978>"
      ]
     },
     "execution_count": 8,
     "metadata": {},
     "output_type": "execute_result"
    },
    {
     "data": {
      "image/png": "[encoded data removed]",
      "text/plain": [
       "<matplotlib.figure.Figure at 0x115c26710>"
      ]
     },
     "metadata": {},
     "output_type": "display_data"
    }
   ],
   "source": [
    "simple_mean_plot = sns.distplot(simple_mean)\n",
    "simple_mean_plot.axes.set_title('Mean: ' + str(round(np.mean(simple_mean),2)) + \"; Standard Deviation: \" + str(round(np.std(simple_mean),2)),\n",
    "                                fontsize = 20, \n",
    "                                color = \"b\", \n",
    "                                alpha = 0.8)"
   ]
  },
  {
   "cell_type": "markdown",
   "metadata": {},
   "source": [
    "**You don't need to include the label as part of the graph, but this might be helpful code to copy and use in the future!**"
   ]
  },
  {
   "cell_type": "markdown",
   "metadata": {},
   "source": [
    "Exercise 5: Gather a stratified random sample of size 500 from `train`, where you stratify on `Store`. Calculate the mean of `Weekly_Sales` and append it to a list. Repeat this 100 times, so that you have one list of 100 sample means where each mean is calculated from a stratified random sample of size 500.\n",
    "\n",
    "Use `sns.distplot()` to plot this list of sample means. Label the chart with the mean and the standard deviation of this list."
   ]
  },
  {
   "cell_type": "code",
   "execution_count": 9,
   "metadata": {},
   "outputs": [
    {
     "name": "stdout",
     "output_type": "stream",
     "text": [
      "0\n",
      "10\n",
      "20\n",
      "30\n",
      "40\n",
      "50\n",
      "60\n",
      "70\n",
      "80\n",
      "90\n"
     ]
    }
   ],
   "source": [
    "stratified_mean = []\n",
    "\n",
    "# This function takes longer to run, so I want to print every 10 i values to ensure we're still making progress.\n",
    "\n",
    "for i in range(100):\n",
    "    stratified_mean.append(np.mean(stratified_random_sample(train,'Store',500)['Weekly_Sales']))\n",
    "    if i % 10 == 0:\n",
    "        print(i)"
   ]
  },
  {
   "cell_type": "code",
   "execution_count": 10,
   "metadata": {},
   "outputs": [
    {
     "data": {
      "text/plain": [
       "<matplotlib.text.Text at 0x112cdfbe0>"
      ]
     },
     "execution_count": 10,
     "metadata": {},
     "output_type": "execute_result"
    },
    {
     "data": {
      "image/png": "[encoded data removed]",
      "text/plain": [
       "<matplotlib.figure.Figure at 0x109dbc198>"
      ]
     },
     "metadata": {},
     "output_type": "display_data"
    }
   ],
   "source": [
    "stratified_mean_plot = sns.distplot(stratified_mean)\n",
    "stratified_mean_plot.axes.set_title('Mean: ' + str(round(np.mean(stratified_mean),2)) + \"; Standard Deviation: \" + str(round(np.std(stratified_mean),2)),\n",
    "                                fontsize = 20, \n",
    "                                color = \"b\", \n",
    "                                alpha = 0.8)"
   ]
  },
  {
   "cell_type": "markdown",
   "metadata": {},
   "source": [
    "Exercise 6: Gather a cluster random sample of size 500 from `train`, where your sampling unit is `Store`. Calculate the mean of `Weekly_Sales` and append it to a list. Repeat this 100 times, so that you have one list of 100 sample means where each mean is calculated from a cluster random sample of size 500.\n",
    "\n",
    "Use `sns.distplot()` to plot this list of sample means. Label the chart with the mean and the standard deviation of this list."
   ]
  },
  {
   "cell_type": "code",
   "execution_count": 11,
   "metadata": {},
   "outputs": [
    {
     "name": "stdout",
     "output_type": "stream",
     "text": [
      "0\n",
      "10\n",
      "20\n",
      "30\n",
      "40\n",
      "50\n",
      "60\n",
      "70\n",
      "80\n",
      "90\n"
     ]
    }
   ],
   "source": [
    "cluster_mean = []\n",
    "\n",
    "# This function takes longer to run, so I want to print every 10 i values to ensure we're still making progress.\n",
    "\n",
    "for i in range(100):\n",
    "    cluster_mean.append(np.mean(cluster_random_sample(train,'Store',500)['Weekly_Sales']))\n",
    "    if i % 10 == 0:\n",
    "        print(i)"
   ]
  },
  {
   "cell_type": "code",
   "execution_count": 12,
   "metadata": {},
   "outputs": [
    {
     "data": {
      "text/plain": [
       "<matplotlib.text.Text at 0x112db4b38>"
      ]
     },
     "execution_count": 12,
     "metadata": {},
     "output_type": "execute_result"
    },
    {
     "data": {
      "image/png": "[encoded data removed]",
      "text/plain": [
       "<matplotlib.figure.Figure at 0x112d01ef0>"
      ]
     },
     "metadata": {},
     "output_type": "display_data"
    }
   ],
   "source": [
    "cluster_mean_plot = sns.distplot(cluster_mean)\n",
    "cluster_mean_plot.axes.set_title('Mean: ' + str(round(np.mean(cluster_mean),2)) + \"; Standard Deviation: \" + str(round(np.std(cluster_mean),2)),\n",
    "                                fontsize = 20, \n",
    "                                color = \"b\", \n",
    "                                alpha = 0.8)"
   ]
  },
  {
   "cell_type": "markdown",
   "metadata": {},
   "source": [
    "Exercise 7: What do you notice about the means of these distributions? What do you notice about the standard deviations of these distributions? What does this suggest to you about these sampling methods?"
   ]
  },
  {
   "cell_type": "code",
   "execution_count": 14,
   "metadata": {},
   "outputs": [
    {
     "data": {
      "text/plain": [
       "15981.258123467243"
      ]
     },
     "execution_count": 14,
     "metadata": {},
     "output_type": "execute_result"
    }
   ],
   "source": [
    "np.mean(train['Weekly_Sales'])"
   ]
  },
  {
   "cell_type": "markdown",
   "metadata": {
    "collapsed": true
   },
   "source": [
    "**Answer 7:** \n",
    "\n",
    "*MEAN*\n",
    "- The true mean of Weekly Sales is 15,981.26.\n",
    "- The mean of the simple random sample means is 15,868.43.\n",
    "- The mean of the stratified random sample means is 16,144.52.\n",
    "- The mean of the cluster random sample means is 15,198.69.\n",
    "- **Conclusion:** While the simple random sample means and stratified random sample means were within about 150 of the true population mean, the cluster random sample mean was about 800 away. **This suggests that cluster random sampling performs worse than simple and stratified random sampling.**\n",
    "\n",
    "*STANDARD ERROR*\n",
    "- The standard deviation of the simple random sample means (also called **standard error**) is 979.06.\n",
    "- The standard deviation of the stratified random sample means (also called **standard error**) is 1,031.04.\n",
    "- The standard deviation of the cluster random sample means (also called **standard error**) is 6,990.68.\n",
    "- **Conclusion:** The standard errors for the simple and stratified random sample means are close, but the simple random sample means here have a slightly smaller standard error. This is good! The standard error for the cluster random sample means is substantially worse than the simple or stratified random samples. **This also suggests that cluster random sampling performs worse than simple and stratified random sampling.**\n",
    "\n",
    "*ADDITIONAL CONCLUSION*\n",
    "- **Conclusion:** Given that the simple random sample performs slightly better than the stratified random sample, it suggests that the variable `Store` is probably not a very good variable on which we should stratify. In this case, stratifying our data is more complex, more time-consuming, and yields a worse result. I would use simple random sampling in this case."
   ]
  }
 ],
 "metadata": {
  "kernelspec": {
   "display_name": "Python 3",
   "language": "python",
   "name": "python3"
  },
  "language_info": {
   "codemirror_mode": {
    "name": "ipython",
    "version": 3
   },
   "file_extension": ".py",
   "mimetype": "text/x-python",
   "name": "python",
   "nbconvert_exporter": "python",
   "pygments_lexer": "ipython3",
   "version": "3.5.4"
  }
 },
 "nbformat": 4,
 "nbformat_minor": 2
}
