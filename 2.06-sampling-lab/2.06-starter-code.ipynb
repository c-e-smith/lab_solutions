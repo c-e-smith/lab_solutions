{
 "cells": [
  {
   "cell_type": "markdown",
   "metadata": {},
   "source": [
    "Exercise 1: Create a function `simple_random_sample()` that will:\n",
    "- take in a Pandas DataFrame and an integer $n$ as arguments, and\n",
    "- return a simple random sample of size $n$ of the observations in a Pandas DataFrame."
   ]
  },
  {
   "cell_type": "code",
   "execution_count": null,
   "metadata": {
    "collapsed": true
   },
   "outputs": [],
   "source": []
  },
  {
   "cell_type": "markdown",
   "metadata": {},
   "source": [
    "Exercise 2: Create a function `stratified_random_sample()` that will:\n",
    "- take in a Pandas DataFrame, a categorical column name corresponding to the variable on which you want to stratify, and an integer $n$ as arguments, and\n",
    "- return a stratified random sample of size $n$ of the observations in a Pandas DataFrame. \n",
    "\n",
    "*Hint: Use your function from Exercise 1 to help out with that.*"
   ]
  },
  {
   "cell_type": "code",
   "execution_count": null,
   "metadata": {
    "collapsed": true
   },
   "outputs": [],
   "source": []
  },
  {
   "cell_type": "markdown",
   "metadata": {},
   "source": [
    "Exercise 3: Create a function `cluster_random_sample()` that will:\n",
    "- take in a Pandas DataFrame, a categorical column name corresponding to the variable of sampling units, and an integer $n$ as arguments, and\n",
    "- return a stratified random sample of size $n$ of the observations in a Pandas DataFrame. \n",
    "\n",
    "*Hint: Use your function from Exercise 2 to help out with that.*"
   ]
  },
  {
   "cell_type": "code",
   "execution_count": null,
   "metadata": {
    "collapsed": true
   },
   "outputs": [],
   "source": []
  },
  {
   "cell_type": "markdown",
   "metadata": {},
   "source": [
    "Exercise 4: Read in `train.csv`.\n",
    "\n",
    "Gather a simple random sample of size 500 from `train`. Calculate the mean of `Weekly_Sales` and append it to a list. Repeat this 100 times, so that you have one list of 100 sample means where each mean is calculated from a simple random sample of size 500.\n",
    "\n",
    "Use `sns.distplot()` to plot this list of sample means. Label the chart with the mean and the standard deviation of this list."
   ]
  },
  {
   "cell_type": "code",
   "execution_count": null,
   "metadata": {
    "collapsed": true
   },
   "outputs": [],
   "source": []
  },
  {
   "cell_type": "markdown",
   "metadata": {},
   "source": [
    "Exercise 5: Gather a stratified random sample of size 500 from `train`, where you stratify on `Store`. Calculate the mean of `Weekly_Sales` and append it to a list. Repeat this 100 times, so that you have one list of 100 sample means where each mean is calculated from a stratified random sample of size 500.\n",
    "\n",
    "Use `sns.distplot()` to plot this list of sample means. Label the chart with the mean and the standard deviation of this list."
   ]
  },
  {
   "cell_type": "code",
   "execution_count": null,
   "metadata": {
    "collapsed": true
   },
   "outputs": [],
   "source": []
  },
  {
   "cell_type": "markdown",
   "metadata": {},
   "source": [
    "Exercise 6: Gather a cluster random sample of size 500 from `train`, where your sampling unit is `Store`. Calculate the mean of `Weekly_Sales` and append it to a list. Repeat this 100 times, so that you have one list of 100 sample means where each mean is calculated from a cluster random sample of size 500.\n",
    "\n",
    "Use `sns.distplot()` to plot this list of sample means. Label the chart with the mean and the standard deviation of this list."
   ]
  },
  {
   "cell_type": "code",
   "execution_count": null,
   "metadata": {
    "collapsed": true
   },
   "outputs": [],
   "source": []
  },
  {
   "cell_type": "markdown",
   "metadata": {},
   "source": [
    "Exercise 7: What do you notice about the means of these distributions? What do you notice about the standard deviations of these distributions? What does this suggest to you about these sampling methods?"
   ]
  },
  {
   "cell_type": "code",
   "execution_count": null,
   "metadata": {
    "collapsed": true
   },
   "outputs": [],
   "source": []
  }
 ],
 "metadata": {
  "kernelspec": {
   "display_name": "Python 3",
   "language": "python",
   "name": "python3"
  },
  "language_info": {
   "codemirror_mode": {
    "name": "ipython",
    "version": 3
   },
   "file_extension": ".py",
   "mimetype": "text/x-python",
   "name": "python",
   "nbconvert_exporter": "python",
   "pygments_lexer": "ipython3",
   "version": "3.5.4"
  }
 },
 "nbformat": 4,
 "nbformat_minor": 2
}
