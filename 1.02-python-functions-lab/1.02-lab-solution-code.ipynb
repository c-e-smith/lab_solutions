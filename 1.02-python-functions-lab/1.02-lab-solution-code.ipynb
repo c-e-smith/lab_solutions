{
 "cells": [
  {
   "cell_type": "markdown",
   "metadata": {},
   "source": [
    "# 1.02 Functions Lab - Solution Code"
   ]
  },
  {
   "cell_type": "code",
   "execution_count": 1,
   "metadata": {
    "collapsed": true
   },
   "outputs": [],
   "source": [
    "\"\"\"\n",
    "If you don't have pytest library you can install from the command line using:\n",
    "pip install -U pytest\n",
    "\"\"\"\n",
    "import pytest\n",
    "import string\n",
    "import numpy as np"
   ]
  },
  {
   "cell_type": "markdown",
   "metadata": {},
   "source": [
    "In this lab, we'll use the `assert()` function. Using `assert()` allows us to check whether an assertion or condition is true.\n",
    "- If the code works properly, nothing will happen.\n",
    "- If the code doesn't work properly, an error will be thrown.\n",
    "\n",
    "The next two cells will illustrate this."
   ]
  },
  {
   "cell_type": "code",
   "execution_count": 2,
   "metadata": {
    "collapsed": true
   },
   "outputs": [],
   "source": [
    "assert(1 == 1) # Because (1 == 1) is true, nothing should happen once this cell is run."
   ]
  },
  {
   "cell_type": "code",
   "execution_count": 3,
   "metadata": {},
   "outputs": [
    {
     "ename": "AssertionError",
     "evalue": "",
     "output_type": "error",
     "traceback": [
      "\u001b[0;31m---------------------------------------------------------------------------\u001b[0m",
      "\u001b[0;31mAssertionError\u001b[0m                            Traceback (most recent call last)",
      "\u001b[0;32m<ipython-input-3-3bf49f7d6eac>\u001b[0m in \u001b[0;36m<module>\u001b[0;34m()\u001b[0m\n\u001b[0;32m----> 1\u001b[0;31m \u001b[0;32massert\u001b[0m\u001b[0;34m(\u001b[0m\u001b[0;36m1\u001b[0m \u001b[0;34m==\u001b[0m \u001b[0;36m2\u001b[0m\u001b[0;34m)\u001b[0m \u001b[0;31m# Because (1 == 2) is false, assert will cause an AssertionError to be thrown once this cell is run.\u001b[0m\u001b[0;34m\u001b[0m\u001b[0m\n\u001b[0m",
      "\u001b[0;31mAssertionError\u001b[0m: "
     ]
    }
   ],
   "source": [
    "assert(1 == 2) # Because (1 == 2) is false, assert will cause an AssertionError to be thrown once this cell is run."
   ]
  },
  {
   "cell_type": "markdown",
   "metadata": {},
   "source": [
    "#### 1) Write a function called area_triangle() that:\n",
    "- takes the height and width of a triangle and\n",
    "- returns the area."
   ]
  },
  {
   "cell_type": "code",
   "execution_count": 4,
   "metadata": {
    "collapsed": true
   },
   "outputs": [],
   "source": [
    "def area_triangle(height,width):\n",
    "    return (1/2) * height * width # Formula for the area of a triangle: height * width * (1/2)"
   ]
  },
  {
   "cell_type": "code",
   "execution_count": 5,
   "metadata": {
    "collapsed": true
   },
   "outputs": [],
   "source": [
    "assert (area_triangle(2,2) == 2)\n",
    "assert (area_triangle(5,5.5) == 13.75)"
   ]
  },
  {
   "cell_type": "markdown",
   "metadata": {},
   "source": [
    "#### 2) Write a function called string_list_fun() that:\n",
    "- takes a string as an argument and \n",
    "- returns a tuple with the string converted to a list and the count of characters."
   ]
  },
  {
   "cell_type": "code",
   "execution_count": 6,
   "metadata": {
    "collapsed": true
   },
   "outputs": [],
   "source": [
    "def string_list_fun(string):\n",
    "    new_list = [] # Create empty list\n",
    "    for i in string:\n",
    "        new_list.append(i) # Put each character from string in list.\n",
    "    return (new_list, len(string)) # Return tuple"
   ]
  },
  {
   "cell_type": "code",
   "execution_count": 7,
   "metadata": {
    "collapsed": true
   },
   "outputs": [],
   "source": [
    "assert (string_list_fun('GA Rocks') == (['G','A',' ','R','o','c','k','s'],8))"
   ]
  },
  {
   "cell_type": "markdown",
   "metadata": {},
   "source": [
    "#### 3) Write a function called math_rocks() that:\n",
    "- takes two integers passed as strings and\n",
    "- returns the sum, difference, and product as a tuple (all values as integers)."
   ]
  },
  {
   "cell_type": "code",
   "execution_count": 8,
   "metadata": {
    "collapsed": true
   },
   "outputs": [],
   "source": [
    "def math_rocks(int1,int2):\n",
    "    int1 = int(int1)\n",
    "    int2 = int(int2)\n",
    "    return (int1 + int2, int1 - int2, int1 * int2)"
   ]
  },
  {
   "cell_type": "code",
   "execution_count": 9,
   "metadata": {
    "collapsed": true
   },
   "outputs": [],
   "source": [
    "assert (math_rocks('5','2') == (7,3,10))"
   ]
  },
  {
   "cell_type": "markdown",
   "metadata": {},
   "source": [
    "#### 4) Write a function called getting_crazy() that:\n",
    "- takes a list and \n",
    "- returns a tuple where the first item is the list in reverse order and the second item is just the items with an odd index"
   ]
  },
  {
   "cell_type": "code",
   "execution_count": 10,
   "metadata": {
    "collapsed": true
   },
   "outputs": [],
   "source": [
    "def getting_crazy(lst):\n",
    "    return (lst[::-1], lst[1::2])"
   ]
  },
  {
   "cell_type": "code",
   "execution_count": 11,
   "metadata": {
    "collapsed": true
   },
   "outputs": [],
   "source": [
    "assert getting_crazy([1,2,3,4,5]) == ([5,4,3,2,1],[2,4])"
   ]
  },
  {
   "cell_type": "markdown",
   "metadata": {},
   "source": [
    "#### 5) Write a function called score_word() that:\n",
    "- takes a string and\n",
    "- returns the score for a word.\n",
    "\n",
    "  - Each letter's score is equal to its position in the alphabet: for example, A = 1, B = 2, and so on. \n",
    "  - The score of the word is the sum of the score of the letters: for example, the score of \"abe\" should be 8. (score(\"abe\") = score(\"a\") + score(\"b\") + score(\"e\") = 1 + 2 + 5 = 8.)\n",
    "\n",
    "##### Hint: The string library has a property [`ascii_lowercase`](https://docs.python.org/3.6/library/string.html) that can save some typing here. \n",
    "##### Bonus: Try accomplishing the above in two ways: once using the `enumerate()` function and once using indexing."
   ]
  },
  {
   "cell_type": "code",
   "execution_count": 12,
   "metadata": {
    "collapsed": true
   },
   "outputs": [],
   "source": [
    "from string import ascii_lowercase"
   ]
  },
  {
   "cell_type": "code",
   "execution_count": 13,
   "metadata": {},
   "outputs": [
    {
     "data": {
      "text/plain": [
       "'abcdefghijklmnopqrstuvwxyz'"
      ]
     },
     "execution_count": 13,
     "metadata": {},
     "output_type": "execute_result"
    }
   ],
   "source": [
    "ascii_lowercase"
   ]
  },
  {
   "cell_type": "code",
   "execution_count": 14,
   "metadata": {},
   "outputs": [
    {
     "name": "stdout",
     "output_type": "stream",
     "text": [
      "0 a\n",
      "1 b\n",
      "2 c\n",
      "3 d\n",
      "4 e\n",
      "5 f\n",
      "6 g\n",
      "7 h\n",
      "8 i\n",
      "9 j\n",
      "10 k\n",
      "11 l\n",
      "12 m\n",
      "13 n\n",
      "14 o\n",
      "15 p\n",
      "16 q\n",
      "17 r\n",
      "18 s\n",
      "19 t\n",
      "20 u\n",
      "21 v\n",
      "22 w\n",
      "23 x\n",
      "24 y\n",
      "25 z\n"
     ]
    }
   ],
   "source": [
    "## If you haven't seen enumerate() before, don't worry! You'll get used to it over time. \n",
    "## The next three cells show how enumerate() works. It's helpful when you want to attach numbers to lists!\n",
    "## There's a link here if you want to learn more: http://book.pythontips.com/en/latest/enumerate.html\n",
    "\n",
    "for counter, value in enumerate(ascii_lowercase):\n",
    "    print(counter,value)"
   ]
  },
  {
   "cell_type": "code",
   "execution_count": 15,
   "metadata": {},
   "outputs": [
    {
     "name": "stdout",
     "output_type": "stream",
     "text": [
      "0\n",
      "1\n",
      "2\n",
      "3\n",
      "4\n",
      "5\n",
      "6\n",
      "7\n",
      "8\n",
      "9\n",
      "10\n",
      "11\n",
      "12\n",
      "13\n",
      "14\n",
      "15\n",
      "16\n",
      "17\n",
      "18\n",
      "19\n",
      "20\n",
      "21\n",
      "22\n",
      "23\n",
      "24\n",
      "25\n"
     ]
    }
   ],
   "source": [
    "for counter, value in enumerate(ascii_lowercase):\n",
    "    print(counter)"
   ]
  },
  {
   "cell_type": "code",
   "execution_count": 16,
   "metadata": {},
   "outputs": [
    {
     "name": "stdout",
     "output_type": "stream",
     "text": [
      "a\n",
      "b\n",
      "c\n",
      "d\n",
      "e\n",
      "f\n",
      "g\n",
      "h\n",
      "i\n",
      "j\n",
      "k\n",
      "l\n",
      "m\n",
      "n\n",
      "o\n",
      "p\n",
      "q\n",
      "r\n",
      "s\n",
      "t\n",
      "u\n",
      "v\n",
      "w\n",
      "x\n",
      "y\n",
      "z\n"
     ]
    }
   ],
   "source": [
    "for counter, value in enumerate(ascii_lowercase):\n",
    "    print(value)"
   ]
  },
  {
   "cell_type": "code",
   "execution_count": 17,
   "metadata": {
    "collapsed": true
   },
   "outputs": [],
   "source": [
    "def score_word(word):\n",
    "    score = 0                                   \n",
    "    for letter in word:                         \n",
    "        for i in range(len(ascii_lowercase)):   \n",
    "            if ascii_lowercase[i] == letter:    \n",
    "                score += (i + 1)\n",
    "                break\n",
    "    return score"
   ]
  },
  {
   "cell_type": "code",
   "execution_count": 18,
   "metadata": {
    "collapsed": true
   },
   "outputs": [],
   "source": [
    "assert score_word(\"abe\") == 8"
   ]
  },
  {
   "cell_type": "code",
   "execution_count": 19,
   "metadata": {
    "collapsed": true
   },
   "outputs": [],
   "source": [
    "def score_word(word):\n",
    "    score = 0                                   \n",
    "    for letter in word:                         \n",
    "        for counter, value in enumerate(ascii_lowercase):   \n",
    "            if ascii_lowercase[counter] == letter:    \n",
    "                score += (counter + 1)\n",
    "                break\n",
    "    return score"
   ]
  },
  {
   "cell_type": "code",
   "execution_count": 20,
   "metadata": {
    "collapsed": true
   },
   "outputs": [],
   "source": [
    "assert score_word(\"abe\") == 8"
   ]
  },
  {
   "cell_type": "markdown",
   "metadata": {},
   "source": [
    "#### 6) From today's lesson, we estimated the value of $\\pi$ by generating random numbers from a uniform distribution. There's code below that implements, in a function, the same thing.\n",
    "- Go through each line of `pi_estimation()` and comment. Prove to yourself (and us!) that you know what that code is doing.\n",
    "- After commenting each line, write a brief summary in the \"\"\" docstring \"\"\" in the first line inside the function."
   ]
  },
  {
   "cell_type": "code",
   "execution_count": 21,
   "metadata": {
    "collapsed": true
   },
   "outputs": [],
   "source": [
    "def pi_estimation(n):\n",
    "    \"\"\" \n",
    "    Uses Monte Carlo simulations to estimate the value of pi.\n",
    "    Pi is roughly equal to 4 * (sand inside circle) / (total sand)\n",
    "    Generates n 'grains of sand' across a 1x1 square, then checks how many are in the circle.\n",
    "    \"\"\"\n",
    "    x = np.random.uniform(0,1,n) ## Generate the horizontal placement of n grains of sand.\n",
    "    y = np.random.uniform(0,1,n) ## Generate the vertical placement of n grains of sand.\n",
    "    D = x ** 2 + y ** 2 <= 1     ## Create a Boolean list D, True if sand inside circle, False otherwise.\n",
    "    return 4 * np.sum(D) / n     ## Pi is roughly 4 * (number of Trues in D) / (total grains of sand)"
   ]
  },
  {
   "cell_type": "markdown",
   "metadata": {},
   "source": [
    "#### 7) This function, `trailing_whitespace_removal()`, is designed to remove trailing whitespaces from strings. For example, if the last character in a string is a space, this function deletes that space.\n",
    "- Go through each line of `leading_whitespace_removal()` and comment. Prove to yourself (and us!) that you know what that code is doing.\n",
    "- After commenting each line, write a brief summary in the \"\"\" docstring \"\"\" in the first line inside the function."
   ]
  },
  {
   "cell_type": "code",
   "execution_count": 22,
   "metadata": {
    "collapsed": true
   },
   "outputs": [],
   "source": [
    "def trailing_whitespace_removal(old_list):\n",
    "    new_list = []                     # instantiate a new list\n",
    "    for i in old_list:                # iterates over old_list\n",
    "        while i[len(i)-1] == ' ':     # while the last character in i is a whitespace\n",
    "            i = i[0:len(i)-1]         # replace i with everything in i except the last character\n",
    "        new_list.append(i)            # add i (with whitespaces removed) to new_list\n",
    "    return new_list                   # returns new_list"
   ]
  },
  {
   "cell_type": "code",
   "execution_count": 23,
   "metadata": {
    "collapsed": true
   },
   "outputs": [],
   "source": [
    "assert (trailing_whitespace_removal([' Atlanta  ', '   Austin', 'Boston   ', ' Chicago', '  D.C. ', ' New York City ']) == [' Atlanta', '   Austin', 'Boston', ' Chicago', '  D.C.', ' New York City'])"
   ]
  },
  {
   "cell_type": "markdown",
   "metadata": {},
   "source": [
    "#### 8) Write a new function called `whitespace_removal()` that removes both trailing whitespaces *and* leading whitespaces. Test it on the assertion below. (Hint: You should be able to use most of the `trailing_whitespace_removal()` function above!)"
   ]
  },
  {
   "cell_type": "code",
   "execution_count": 24,
   "metadata": {
    "collapsed": true
   },
   "outputs": [],
   "source": [
    "def whitespace_removal(old_list):\n",
    "    new_list = []                     # instantiate a new list\n",
    "    for i in old_list:                # iterates over old_list\n",
    "        while i[len(i)-1] == ' ':     # while the last character in i is a whitespace\n",
    "            i = i[0:len(i)-1]         # replace i with everything in i except the last character\n",
    "        while i[0] == ' ':            # while the first character in i is a whitespace\n",
    "            i = i[1:]                 # replace i with everything in i except the first character\n",
    "        new_list.append(i)            # add i (with whitespaces removed) to new_list\n",
    "    return new_list                   # returns new_list"
   ]
  },
  {
   "cell_type": "code",
   "execution_count": 25,
   "metadata": {
    "collapsed": true
   },
   "outputs": [],
   "source": [
    "assert (whitespace_removal([' Atlanta  ', '   Austin', 'Boston   ', ' Chicago', '  D.C. ', ' New York City ']) == ['Atlanta', 'Austin', 'Boston', 'Chicago', 'D.C.', 'New York City'])"
   ]
  },
  {
   "cell_type": "markdown",
   "metadata": {},
   "source": [
    "#### BONUS) The `zip()` function is commonly used in Python. Write a function called `zip_checker()` that:\n",
    "- takes a list of inputs and \n",
    "- returns \"Yes!\" if the `zip()` function will work on that list of inputs and returns \"No.\" if `zip()` does not work on that list of inputs.\n",
    "\n",
    "You might be saying, \"We haven't used the `zip()` function yet!\" You're right - there are times when you'll discover new functions, libraries, methods, etc. about which we haven't learned but which might make your work much simpler! It'll be up to you to explore things and then be confident about using these new tools.\n",
    "\n",
    "A good, general strategy for working with new functions is:\n",
    "1. Read the documentation. (The documentation for `zip()` is linked [here](https://docs.python.org/3/library/functions.html#zip).)\n",
    "2. Work out a simple example - often there'll be an example or two included in the documentation. In this case, start with two lists of two elements.\n",
    "3. Once you're comfortable with the small example, make it harder. In this case, try zipping a list of two elements with a list of three or four elements. Try zipping three lists. By doing these \"harder\" cases, it'll give you a much better sense for what works and what doesn't.\n",
    "4. When you research a new function, it might be helpful to make a note of what you learned during your quick exploration. Write out a brief summary of your findings.\n",
    "\n",
    "##### Hint: There's a subtle difference between Python 2 and Python 3 that might be good to call out. In Python 2, `zip(x,y)` would work and display the expected result. In Python 3, `zip(x,y)` returns an odd-looking zip object. In order to display the expected result in Python 3, you'll want to run `list(zip(x,y))`."
   ]
  },
  {
   "cell_type": "code",
   "execution_count": 26,
   "metadata": {
    "collapsed": true
   },
   "outputs": [],
   "source": [
    "def zip_checker(inputs):\n",
    "    try:\n",
    "        list(zip(inputs))\n",
    "        return \"Yes!\"\n",
    "    except:\n",
    "        return \"No.\""
   ]
  },
  {
   "cell_type": "markdown",
   "metadata": {},
   "source": [
    "### Additional Resources - Potentially Helpful Functions\n",
    "\n",
    "* [Data Structures in Python](https://docs.python.org/3.6/tutorial/datastructures.html#)\n",
    "* [What's New in Python 3?](https://docs.python.org/3.6/whatsnew/3.0.html)"
   ]
  }
 ],
 "metadata": {
  "anaconda-cloud": {},
  "kernelspec": {
   "display_name": "Python 3",
   "language": "python",
   "name": "python3"
  },
  "language_info": {
   "codemirror_mode": {
    "name": "ipython",
    "version": 3
   },
   "file_extension": ".py",
   "mimetype": "text/x-python",
   "name": "python",
   "nbconvert_exporter": "python",
   "pygments_lexer": "ipython3",
   "version": "3.5.4"
  }
 },
 "nbformat": 4,
 "nbformat_minor": 1
}
