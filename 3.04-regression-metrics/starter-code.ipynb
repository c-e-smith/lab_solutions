{
 "cells": [
  {
   "cell_type": "markdown",
   "metadata": {},
   "source": [
    "###  ![](https://ga-dash.s3.amazonaws.com/production/assets/logo-9f88ae6c9c3871690e33280fcf557f33.png) Lab 3.04 | Regression Metrics Lab"
   ]
  },
  {
   "cell_type": "markdown",
   "metadata": {},
   "source": [
    "Exercise 1: Build a function called `r2_adj()` that will calculate $R^2_{adj}$ for a model. For inputs, you'll need `y_true`, `y_preds`, the number of variables $p$, and the number of observations $n$."
   ]
  },
  {
   "cell_type": "code",
   "execution_count": null,
   "metadata": {
    "collapsed": true
   },
   "outputs": [],
   "source": []
  },
  {
   "cell_type": "markdown",
   "metadata": {},
   "source": [
    "Exercise 2: Using the forest fire data from the lesson, build two models in `statsmodels`, one of which should include at least one newly-engineered feature. \n",
    "\n",
    "Test your output of Exercise 1 by running `r2_adj()` on both models and by checking `.summary()` of the models. (Adjusted $R^2$ is in the summary.)"
   ]
  },
  {
   "cell_type": "code",
   "execution_count": null,
   "metadata": {
    "collapsed": true
   },
   "outputs": [],
   "source": []
  },
  {
   "cell_type": "markdown",
   "metadata": {},
   "source": [
    "Exercise 3: Suppose we build two models. Model 1 has predicted outputs `y_preds_1` and Model 2 has predicted outputs `y_preds_2`. We now have the question we'll always have:\n",
    "\n",
    "![](https://spoonuniversity.com/wp-content/uploads/sites/87/2016/06/Rebecca-Black-Friday-Which-Seat-Can-I-Take-Meme-26.gif)\n",
    "\n",
    "*(Okay, maybe which model should I pick?)*\n",
    "\n",
    "Build a function:\n",
    "- called `model_picker()`\n",
    "- that accepts `y_true`, `y_preds_1`, and `y_preds_2` as inputs, and\n",
    "- returns:\n",
    "    - $R^2$, MSE, RMSE, MedAE, and MSLE for model 1,\n",
    "    - $R^2$, MSE, RMSE, MedAE, and MSLE for model 2,\n",
    "    - \"Model 1 is the model to pick!\" if all of Model 1's scores are better than Model 2,\n",
    "    - \"Model 2 is the model to pick!\" if all of Model 2's scores are better than Model 1, or\n",
    "    - \"Neither model wins.\" if neither model is uniformly better than the other.\n"
   ]
  },
  {
   "cell_type": "code",
   "execution_count": null,
   "metadata": {
    "collapsed": true
   },
   "outputs": [],
   "source": []
  },
  {
   "cell_type": "markdown",
   "metadata": {},
   "source": [
    "Exercise 4: Using the forest fire data from the lesson, build two models in `scikit-learn`, one of which should include at least one newly-engineered feature. \n",
    "\n",
    "Test your output of Exercise 1 by running `r2_adj()` on both models and by checking `.summary()` of the models. (Adjusted $R^2$ is in the summary.)"
   ]
  },
  {
   "cell_type": "code",
   "execution_count": null,
   "metadata": {
    "collapsed": true
   },
   "outputs": [],
   "source": []
  },
  {
   "cell_type": "markdown",
   "metadata": {},
   "source": [
    "BONUS: Adapt `model_picker()` to include $R^2_{adj}$ in its analysis. Note that you'll have to add certain inputs that you used in `r2_adj()`."
   ]
  },
  {
   "cell_type": "code",
   "execution_count": null,
   "metadata": {
    "collapsed": true
   },
   "outputs": [],
   "source": []
  }
 ],
 "metadata": {
  "kernelspec": {
   "display_name": "Python 3",
   "language": "python",
   "name": "python3"
  },
  "language_info": {
   "codemirror_mode": {
    "name": "ipython",
    "version": 3
   },
   "file_extension": ".py",
   "mimetype": "text/x-python",
   "name": "python",
   "nbconvert_exporter": "python",
   "pygments_lexer": "ipython3",
   "version": "3.5.4"
  }
 },
 "nbformat": 4,
 "nbformat_minor": 2
}
