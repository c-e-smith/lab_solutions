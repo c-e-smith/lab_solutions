{
 "cells": [
  {
   "cell_type": "markdown",
   "metadata": {},
   "source": [
    "# ![](https://ga-dash.s3.amazonaws.com/production/assets/logo-9f88ae6c9c3871690e33280fcf557f33.png) Lab 3.03 | Feature Engineering Lab\n",
    "\n",
    "In this lab, you'll implement feature engineering on the \"Heads of State\" data.\n",
    "\n",
    "Your $Y$ value should be the length of time (in years) each individual reigned."
   ]
  },
  {
   "cell_type": "code",
   "execution_count": 106,
   "metadata": {},
   "outputs": [],
   "source": [
    "import pandas as pd\n",
    "import numpy as np"
   ]
  },
  {
   "cell_type": "code",
   "execution_count": 2,
   "metadata": {},
   "outputs": [
    {
     "name": "stdout",
     "output_type": "stream",
     "text": [
      "Name,Wikipedia Page,Description,Image,Birth Year,Age Term Began (approx.),Term Began,Year Term Began,Term Ended,Year Term Ended,Term length,Days in Term,Royal?,Current?,Birth Place (current city),Country of Birth (current country),Ruler of,Country of Ruled Territory (Current),Political Party,Studies,Role,Religion\r\n",
      "\"Heinrich II, Hoya\",http://de.wikipedia.org/wiki/Heinrich_II._(Hoya),,,,,1235,1235,1290,1290,55 years,20088,Yes,No,,,Hoya ,Germany,,,Count,\r\n"
     ]
    }
   ],
   "source": [
    "!head -2 Heads\\ of\\ State.csv"
   ]
  },
  {
   "cell_type": "code",
   "execution_count": 9,
   "metadata": {},
   "outputs": [],
   "source": [
    "state = pd.read_csv(\"Heads of State.csv\")"
   ]
  },
  {
   "cell_type": "code",
   "execution_count": 10,
   "metadata": {},
   "outputs": [
    {
     "data": {
      "text/plain": [
       "(454, 22)"
      ]
     },
     "execution_count": 10,
     "metadata": {},
     "output_type": "execute_result"
    }
   ],
   "source": [
    "state.shape"
   ]
  },
  {
   "cell_type": "markdown",
   "metadata": {},
   "source": [
    "Exercise 1: As a first step, do some EDA and data cleaning. Don't go too far down the rabbit hole, but be able to identify potential pitfalls in the data!"
   ]
  },
  {
   "cell_type": "markdown",
   "metadata": {
    "collapsed": true
   },
   "source": [
    "#### Stuff we need to keep:\n",
    "\n",
    "1. being royal\n",
    "\n",
    "2. length of time they reigned\n",
    "\n",
    "3. religion\n",
    "\n",
    "4. age of the person when they began their term"
   ]
  },
  {
   "cell_type": "code",
   "execution_count": 11,
   "metadata": {},
   "outputs": [
    {
     "data": {
      "text/plain": [
       "Index(['Name', 'Wikipedia Page', 'Description', 'Image', 'Birth Year',\n",
       "       'Age Term Began (approx.)', 'Term Began', 'Year Term Began',\n",
       "       'Term Ended', 'Year Term Ended', 'Term length', 'Days in Term',\n",
       "       'Royal?', 'Current?', 'Birth Place (current city)',\n",
       "       'Country of Birth (current country)', 'Ruler of',\n",
       "       'Country of Ruled Territory (Current)', 'Political Party', 'Studies',\n",
       "       'Role', 'Religion'],\n",
       "      dtype='object')"
      ]
     },
     "execution_count": 11,
     "metadata": {},
     "output_type": "execute_result"
    }
   ],
   "source": [
    "state.columns"
   ]
  },
  {
   "cell_type": "code",
   "execution_count": 12,
   "metadata": {},
   "outputs": [
    {
     "data": {
      "text/plain": [
       "Name                                     object\n",
       "Wikipedia Page                           object\n",
       "Description                              object\n",
       "Image                                    object\n",
       "Birth Year                               object\n",
       "Age Term Began (approx.)                float64\n",
       "Term Began                               object\n",
       "Year Term Began                          object\n",
       "Term Ended                               object\n",
       "Year Term Ended                          object\n",
       "Term length                              object\n",
       "Days in Term                             object\n",
       "Royal?                                   object\n",
       "Current?                                 object\n",
       "Birth Place (current city)               object\n",
       "Country of Birth (current country)       object\n",
       "Ruler of                                 object\n",
       "Country of Ruled Territory (Current)     object\n",
       "Political Party                          object\n",
       "Studies                                  object\n",
       "Role                                     object\n",
       "Religion                                 object\n",
       "dtype: object"
      ]
     },
     "execution_count": 12,
     "metadata": {},
     "output_type": "execute_result"
    }
   ],
   "source": [
    "state.dtypes"
   ]
  },
  {
   "cell_type": "code",
   "execution_count": 23,
   "metadata": {},
   "outputs": [],
   "source": [
    "# drop current heads o' state\n",
    "state.drop(index=state[ state['Current?'] == 'Yes'].index.tolist(),\n",
    "          inplace=True)\n",
    "# reset the index so we don't have gaps\n",
    "state.reset_index(drop=True, inplace=True)"
   ]
  },
  {
   "cell_type": "code",
   "execution_count": 26,
   "metadata": {},
   "outputs": [
    {
     "data": {
      "text/plain": [
       "363"
      ]
     },
     "execution_count": 26,
     "metadata": {},
     "output_type": "execute_result"
    }
   ],
   "source": [
    "state.shape[0]"
   ]
  },
  {
   "cell_type": "code",
   "execution_count": 25,
   "metadata": {},
   "outputs": [
    {
     "data": {
      "text/plain": [
       "Name                                      0\n",
       "Wikipedia Page                          118\n",
       "Description                             121\n",
       "Image                                   214\n",
       "Birth Year                              158\n",
       "Age Term Began (approx.)                159\n",
       "Term Began                                0\n",
       "Year Term Began                           0\n",
       "Term Ended                                2\n",
       "Year Term Ended                           2\n",
       "Term length                               0\n",
       "Days in Term                              0\n",
       "Royal?                                    0\n",
       "Current?                                  0\n",
       "Birth Place (current city)              254\n",
       "Country of Birth (current country)      254\n",
       "Ruler of                                  0\n",
       "Country of Ruled Territory (Current)      0\n",
       "Political Party                         341\n",
       "Studies                                 358\n",
       "Role                                      1\n",
       "Religion                                337\n",
       "dtype: int64"
      ]
     },
     "execution_count": 25,
     "metadata": {},
     "output_type": "execute_result"
    }
   ],
   "source": [
    "state.isnull().sum()"
   ]
  },
  {
   "cell_type": "code",
   "execution_count": 150,
   "metadata": {},
   "outputs": [],
   "source": [
    "X = state[['Age Term Began (approx.)',\n",
    "      'Royal?',\n",
    "      'Name']]\n",
    "\n",
    "y = state['Term length']"
   ]
  },
  {
   "cell_type": "markdown",
   "metadata": {},
   "source": [
    "#### Exercise 2: Create the length of time in years each individual reigned. Include decimal values. (For example, if someone reigned for 330 days, we would expect this value to be approximately 0.9.)"
   ]
  },
  {
   "cell_type": "code",
   "execution_count": null,
   "metadata": {},
   "outputs": [],
   "source": [
    "to do:\n",
    "age: impute missing values\n",
    "is_royal: map to 0 or 1\n",
    "name: replace with the length of the name"
   ]
  },
  {
   "cell_type": "code",
   "execution_count": 104,
   "metadata": {},
   "outputs": [
    {
     "data": {
      "text/plain": [
       "14.0"
      ]
     },
     "execution_count": 104,
     "metadata": {},
     "output_type": "execute_result"
    }
   ],
   "source": [
    "X['age'].median()"
   ]
  },
  {
   "cell_type": "code",
   "execution_count": 152,
   "metadata": {},
   "outputs": [],
   "source": [
    "# redefine y to be fractional years (overwrites the previous y, sry)\n",
    "y = state['Days in Term'].apply(lambda x: x.split()[0]).astype('float') / 365"
   ]
  },
  {
   "cell_type": "code",
   "execution_count": 153,
   "metadata": {},
   "outputs": [],
   "source": [
    "y.rename('term_years', inplace=True)\n",
    "X.columns = ['age', 'is_royal', 'name']"
   ]
  },
  {
   "cell_type": "code",
   "execution_count": 165,
   "metadata": {
    "collapsed": true
   },
   "outputs": [
    {
     "name": "stderr",
     "output_type": "stream",
     "text": [
      "/home/greg/miniconda3/envs/ga/lib/python3.6/site-packages/pandas/core/generic.py:4355: SettingWithCopyWarning: \n",
      "A value is trying to be set on a copy of a slice from a DataFrame\n",
      "\n",
      "See the caveats in the documentation: http://pandas.pydata.org/pandas-docs/stable/indexing.html#indexing-view-versus-copy\n",
      "  self._update_inplace(new_data)\n"
     ]
    }
   ],
   "source": [
    "# impute (fill in) missing age values with the median age from the column\n",
    "X['age'].fillna(value=X['age'].median(), axis=0, inplace=True)\n",
    "\n",
    "# if royal then 1 else 0\n",
    "X['is_royal'] = [ 1 if col else 0 for col in X['is_royal'] == 'Yes' ]\n",
    "\n",
    "# replace name with the length of the name (int)\n",
    "X['name'] = [ len(col) for col in X['name'] ]"
   ]
  },
  {
   "cell_type": "code",
   "execution_count": 174,
   "metadata": {},
   "outputs": [
    {
     "data": {
      "text/html": [
       "<div>\n",
       "<style scoped>\n",
       "    .dataframe tbody tr th:only-of-type {\n",
       "        vertical-align: middle;\n",
       "    }\n",
       "\n",
       "    .dataframe tbody tr th {\n",
       "        vertical-align: top;\n",
       "    }\n",
       "\n",
       "    .dataframe thead th {\n",
       "        text-align: right;\n",
       "    }\n",
       "</style>\n",
       "<table border=\"1\" class=\"dataframe\">\n",
       "  <thead>\n",
       "    <tr style=\"text-align: right;\">\n",
       "      <th></th>\n",
       "      <th>age</th>\n",
       "      <th>is_royal</th>\n",
       "      <th>name</th>\n",
       "    </tr>\n",
       "  </thead>\n",
       "  <tbody>\n",
       "    <tr>\n",
       "      <th>0</th>\n",
       "      <td>14.0</td>\n",
       "      <td>1</td>\n",
       "      <td>17</td>\n",
       "    </tr>\n",
       "    <tr>\n",
       "      <th>1</th>\n",
       "      <td>14.0</td>\n",
       "      <td>1</td>\n",
       "      <td>25</td>\n",
       "    </tr>\n",
       "  </tbody>\n",
       "</table>\n",
       "</div>"
      ],
      "text/plain": [
       "    age  is_royal  name\n",
       "0  14.0         1    17\n",
       "1  14.0         1    25"
      ]
     },
     "execution_count": 174,
     "metadata": {},
     "output_type": "execute_result"
    }
   ],
   "source": [
    "X.head(2)"
   ]
  },
  {
   "cell_type": "markdown",
   "metadata": {},
   "source": [
    "Exercise 3: It only makes sense if we're going to analyze people who are not currently heads of state. (If we included current heads of state, we're not going to get a great look at their length of reign, because their reign is continuing!) Subset your data accordingly."
   ]
  },
  {
   "cell_type": "markdown",
   "metadata": {
    "collapsed": true
   },
   "source": [
    "#### Done - see above"
   ]
  },
  {
   "cell_type": "markdown",
   "metadata": {},
   "source": [
    "Exercise 4: Does being royal have a significant effect on the length of one's reign?\n",
    "- Build the model using `sm.OLS()`. Be sure to include a $y$-intercept!\n",
    "- Check out the summary. Interpret the coefficient.\n",
    "- Based on the $p$-value in the summary, mention what (if anything) you can conclude about the effect of being royal on the length one's reign."
   ]
  },
  {
   "cell_type": "code",
   "execution_count": null,
   "metadata": {
    "collapsed": true
   },
   "outputs": [],
   "source": []
  },
  {
   "cell_type": "markdown",
   "metadata": {},
   "source": [
    "Exercise 5: Does having a religion listed (column V) have a significant effect on the length of one's reign?\n",
    "- Build the model using `sm.OLS()`. Be sure to include a $y$-intercept!\n",
    "- Check out the summary. Interpret the coefficient.\n",
    "- Based on the $p$-value in the summary, mention what (if anything) you can conclude about the effect of having a religion listed on the length of one's reign."
   ]
  },
  {
   "cell_type": "markdown",
   "metadata": {
    "collapsed": true
   },
   "source": [
    "#### No - almost everything is null"
   ]
  },
  {
   "cell_type": "markdown",
   "metadata": {},
   "source": [
    "Exercise 6: Is there a significant interaction between being royal and having a religion listed?\n",
    "- Build the model using `sm.OLS()`. Be sure to include a $y$-intercept!\n",
    "- Based on the $p$-value in the summary, mention what (if anything) you can conclude about the interaction effect of royal and religion on the length of one's reign."
   ]
  },
  {
   "cell_type": "markdown",
   "metadata": {
    "collapsed": true
   },
   "source": [
    "#### No - again because we have almost no religion data"
   ]
  },
  {
   "cell_type": "markdown",
   "metadata": {},
   "source": [
    "Exercise 7: Does the age the term began have a significant effect on the length of one's reign?"
   ]
  },
  {
   "cell_type": "code",
   "execution_count": null,
   "metadata": {
    "collapsed": true
   },
   "outputs": [],
   "source": []
  },
  {
   "cell_type": "markdown",
   "metadata": {},
   "source": [
    "Exercise 8: Suppose you're wary of the data collection process here. Are there any concerns you might have about the data? (Perhaps about sampled versus target populations?)"
   ]
  },
  {
   "cell_type": "code",
   "execution_count": null,
   "metadata": {
    "collapsed": true
   },
   "outputs": [],
   "source": []
  },
  {
   "cell_type": "markdown",
   "metadata": {},
   "source": [
    "Exercise 9: Build a multiple linear regression model to predict the length of an individual's reign. In addition to the previous features, engineer at least two more features. If you want to use some of the text features, you may find [.isin()](https://pandas.pydata.org/pandas-docs/stable/generated/pandas.Series.isin.html) helpful.\n",
    "\n",
    "Discuss the results of your model."
   ]
  },
  {
   "cell_type": "code",
   "execution_count": null,
   "metadata": {
    "collapsed": true
   },
   "outputs": [],
   "source": []
  }
 ],
 "metadata": {
  "kernelspec": {
   "display_name": "Python 3",
   "language": "python",
   "name": "python3"
  },
  "language_info": {
   "codemirror_mode": {
    "name": "ipython",
    "version": 3
   },
   "file_extension": ".py",
   "mimetype": "text/x-python",
   "name": "python",
   "nbconvert_exporter": "python",
   "pygments_lexer": "ipython3",
   "version": "3.6.3"
  }
 },
 "nbformat": 4,
 "nbformat_minor": 2
}
